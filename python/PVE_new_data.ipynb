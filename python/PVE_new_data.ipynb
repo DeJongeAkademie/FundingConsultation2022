{
 "cells": [
  {
   "cell_type": "markdown",
   "id": "d6d01fcc",
   "metadata": {},
   "source": [
    "# PVE-analysis on research funding\n",
    "*Collective Compass Project, DJA, 2022*\n",
    "\n",
    "---"
   ]
  },
  {
   "cell_type": "markdown",
   "id": "f44e511a",
   "metadata": {},
   "source": [
    "This notebook contains a basic first data analysis of the data from the Collective Compass project. It shows the data categorized per institute, career stage, discipline, and gender. The variables `kt_*` contain the chosen allocation of research money per predefined category."
   ]
  },
  {
   "cell_type": "markdown",
   "id": "baed8bec",
   "metadata": {},
   "source": [
    "---\n",
    "## Loading the necessary Python modules."
   ]
  },
  {
   "cell_type": "code",
   "execution_count": null,
   "id": "9db1dc3a",
   "metadata": {},
   "outputs": [],
   "source": [
    "import matplotlib.pyplot as plt\n",
    "import pandas as pd\n",
    "import itertools\n",
    "import requests\n",
    "plt.rcParams.update({'font.size': 14}) # must set in top\n",
    "plt.rcParams.update({'figure.figsize': (14, 4)}) # must set in top"
   ]
  },
  {
   "cell_type": "markdown",
   "id": "cfbb61bc",
   "metadata": {},
   "source": [
    "---\n",
    "## Download the data"
   ]
  },
  {
   "cell_type": "code",
   "execution_count": null,
   "id": "e8812794",
   "metadata": {},
   "outputs": [],
   "source": [
    "# download a fresh copy of the dataset from the OSF\n",
    "data_url = 'https://osf.io/f76rb//?action=download'\n",
    "response = requests.get(data_url)\n",
    "\n",
    "if response.status_code == 200:\n",
    "    with open('../data/dat.csv', 'wb') as f:\n",
    "        f.write(response.content)"
   ]
  },
  {
   "cell_type": "code",
   "execution_count": null,
   "id": "f4a4c9df",
   "metadata": {},
   "outputs": [],
   "source": [
    "df = pd.read_csv('../data/dat.csv')"
   ]
  },
  {
   "cell_type": "markdown",
   "id": "6c132d5d",
   "metadata": {},
   "source": [
    "---\n",
    "## Plot basic participation stats"
   ]
  },
  {
   "cell_type": "code",
   "execution_count": null,
   "id": "9970103e",
   "metadata": {},
   "outputs": [],
   "source": [
    "plt.figure()\n",
    "plt.subplot(121)\n",
    "df['institution'].value_counts().plot.bar()\n",
    "plt.grid()\n",
    "plt.subplot(122)\n",
    "df['versie'].value_counts().plot.bar();"
   ]
  },
  {
   "cell_type": "code",
   "execution_count": null,
   "id": "9bcb25c8",
   "metadata": {},
   "outputs": [],
   "source": [
    "plt.figure()\n",
    "df['institution'].value_counts().plot.bar()"
   ]
  },
  {
   "cell_type": "code",
   "execution_count": null,
   "id": "f7d757d4",
   "metadata": {},
   "outputs": [],
   "source": [
    "df_vals = df[['institution', 'sex']].value_counts()\n",
    "df_vals.unstack('sex').plot.bar(stacked=True);"
   ]
  },
  {
   "cell_type": "code",
   "execution_count": null,
   "id": "e62e0166",
   "metadata": {},
   "outputs": [],
   "source": [
    "plt.figure()\n",
    "df['pos9'].value_counts().plot.bar()"
   ]
  },
  {
   "cell_type": "code",
   "execution_count": null,
   "id": "a04a00b5",
   "metadata": {},
   "outputs": [],
   "source": [
    "plt.figure()\n",
    "df['discipline'].value_counts().plot.bar()"
   ]
  },
  {
   "cell_type": "code",
   "execution_count": null,
   "id": "6d10b60a",
   "metadata": {},
   "outputs": [],
   "source": [
    "df_vals = df[['pos9', 'sex']].value_counts()\n",
    "df_vals.unstack('sex').plot.bar(stacked=True);"
   ]
  },
  {
   "cell_type": "code",
   "execution_count": null,
   "id": "c1fa2f1f",
   "metadata": {},
   "outputs": [],
   "source": [
    "df_vals = df[['discipline', 'sex']].value_counts()\n",
    "df_vals.unstack('sex').plot.bar(stacked=True);"
   ]
  },
  {
   "cell_type": "markdown",
   "id": "4639504c",
   "metadata": {},
   "source": [
    "---\n",
    "## Postprocess the kt values to fraction of the total budget."
   ]
  },
  {
   "cell_type": "code",
   "execution_count": null,
   "id": "edcf49c1",
   "metadata": {},
   "outputs": [],
   "source": [
    "# Second, we divide the spending by the total funds available.\n",
    "# to make each kt_funds* a fraction of the total money spend.\n",
    "mask = df.columns.str.contains('funds_available|versie|pos5|kt_funds_*')\n",
    "df_kt = df.iloc[:, mask].copy()\n",
    "df_kt = df_kt.dropna()\n",
    "\n",
    "for col in df_kt.iloc[:, df_kt.columns.str.contains('kt_funds*')]:\n",
    "    df_kt.loc[:, col] /= df_kt.loc[:, 'funds_available']"
   ]
  },
  {
   "cell_type": "markdown",
   "id": "eb9e9083",
   "metadata": {},
   "source": [
    "---\n",
    "## Show the relative funding allocation for several groups (total funding, career stage ...)"
   ]
  },
  {
   "cell_type": "code",
   "execution_count": null,
   "id": "be73b761",
   "metadata": {},
   "outputs": [],
   "source": [
    "# Create a table with the fraction spent per kt item per group.\n",
    "kts = list( df_kt.iloc[:, df_kt.columns.str.contains('kt_funds*')] )\n",
    "df_kt_per_version = df_kt.groupby('versie')[ kts ]\n",
    "df_kt_per_version.mean()"
   ]
  },
  {
   "cell_type": "code",
   "execution_count": null,
   "id": "f4aafb09",
   "metadata": {},
   "outputs": [],
   "source": [
    "# Print the fraction of the total money spent per experiment version (with differennt total budgets).\n",
    "df_kt_per_version.mean().sum(axis=1)"
   ]
  },
  {
   "cell_type": "code",
   "execution_count": null,
   "id": "c3175f42",
   "metadata": {},
   "outputs": [],
   "source": [
    "# Plot a histogram with a bar per version.\n",
    "df_kt_per_version.mean().transpose().plot.bar()\n",
    "plt.grid()"
   ]
  },
  {
   "cell_type": "code",
   "execution_count": null,
   "id": "9f3eb7e5",
   "metadata": {},
   "outputs": [],
   "source": [
    "# Plot a histogram per version.\n",
    "df_kt_per_version.mean().plot.bar(xlabel='total funding version');\n",
    "plt.grid()\n",
    "plt.legend(loc=0, ncol=3)"
   ]
  },
  {
   "cell_type": "code",
   "execution_count": null,
   "id": "3bf85cf4",
   "metadata": {},
   "outputs": [],
   "source": [
    "# Create a table with the fraction spent per kt item per career stage.\n",
    "kts = list( df_kt.iloc[:, df_kt.columns.str.contains('kt_funds*')] )\n",
    "df_kt_per_pos5 = df_kt.groupby('pos5')[ kts ]\n",
    "df_kt_per_pos5.mean()"
   ]
  },
  {
   "cell_type": "code",
   "execution_count": null,
   "id": "ea61b312",
   "metadata": {},
   "outputs": [],
   "source": [
    "df_kt_per_pos5.mean().plot.bar(xlabel='career stage');\n",
    "plt.grid()\n",
    "plt.legend(loc=0, ncol=3)"
   ]
  },
  {
   "cell_type": "code",
   "execution_count": null,
   "id": "0885763c",
   "metadata": {},
   "outputs": [],
   "source": [
    "# Simplify the plot and sum categories\n",
    "mask = df.columns.str.contains('pos5|kt_funds_*')\n",
    "df_kt2 = df.iloc[:, mask].copy()\n",
    "df_kt2 = df_kt2.dropna()\n",
    "\n",
    "df_kt2['kt_competition'] = (\n",
    "      df_kt2['kt_funds_first_ecr']\n",
    "    + df_kt2['kt_funds_personal_ecr']\n",
    "    + df_kt2['kt_funds_personal_senior']\n",
    "    + df_kt2['kt_funds_small_first']\n",
    "    + df_kt2['kt_funds_small_second']\n",
    "    + df_kt2['kt_funds_team']\n",
    "    + df_kt2['kt_funds_thematic'] )\n",
    "df_kt2['kt_rolling'] = (\n",
    "      df_kt2['kt_funds_rolling_ecr']\n",
    "    + df_kt2['kt_funds_rolling_senior'] )"
   ]
  },
  {
   "cell_type": "code",
   "execution_count": null,
   "id": "3e24776f",
   "metadata": {},
   "outputs": [],
   "source": [
    "kts = ['kt_competition', 'kt_rolling', 'kt_funds_award']\n",
    "df_kt_per_pos5_summed = df_kt2.groupby('pos5')[ kts ]\n",
    "df_kt_per_pos5_summed.mean()"
   ]
  },
  {
   "cell_type": "code",
   "execution_count": null,
   "id": "7cbf80c4",
   "metadata": {},
   "outputs": [],
   "source": [
    "df_kt_per_pos5_summed.mean().plot.bar(xlabel='career stage');\n",
    "plt.ylim(0, 400)\n",
    "plt.grid()\n",
    "plt.legend(loc=0, ncol=3);"
   ]
  },
  {
   "cell_type": "code",
   "execution_count": null,
   "id": "278fd710",
   "metadata": {},
   "outputs": [],
   "source": []
  }
 ],
 "metadata": {
  "kernelspec": {
   "display_name": "Python 3 (ipykernel)",
   "language": "python",
   "name": "python3"
  },
  "language_info": {
   "codemirror_mode": {
    "name": "ipython",
    "version": 3
   },
   "file_extension": ".py",
   "mimetype": "text/x-python",
   "name": "python",
   "nbconvert_exporter": "python",
   "pygments_lexer": "ipython3",
   "version": "3.9.14"
  }
 },
 "nbformat": 4,
 "nbformat_minor": 5
}
