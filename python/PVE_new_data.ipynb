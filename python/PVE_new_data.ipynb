{
 "cells": [
  {
   "cell_type": "markdown",
   "id": "d6d01fcc",
   "metadata": {},
   "source": [
    "# PVE-analysis on research funding\n",
    "*Collective Compass Project, DJA, July 2022*\n"
   ]
  },
  {
   "cell_type": "markdown",
   "id": "baed8bec",
   "metadata": {},
   "source": [
    "---\n",
    "## Loading the necessary Python modules."
   ]
  },
  {
   "cell_type": "code",
   "execution_count": null,
   "id": "9db1dc3a",
   "metadata": {},
   "outputs": [],
   "source": [
    "import matplotlib.pyplot as plt\n",
    "import pandas as pd\n",
    "import itertools\n",
    "import requests\n",
    "plt.rcParams.update({'font.size': 14}) # must set in top\n",
    "plt.rcParams.update({'figure.figsize': (14, 4)}) # must set in top"
   ]
  },
  {
   "cell_type": "code",
   "execution_count": null,
   "id": "e8812794",
   "metadata": {},
   "outputs": [],
   "source": [
    "# download a fresh copy of the dataset from the OSF\n",
    "data_url = 'https://osf.io/f76rb//?action=download'\n",
    "response = requests.get(data_url)\n",
    "\n",
    "if response.status_code == 200:\n",
    "    with open('../data/dat.csv', 'wb') as f:\n",
    "        f.write(response.content)"
   ]
  },
  {
   "cell_type": "code",
   "execution_count": null,
   "id": "f4a4c9df",
   "metadata": {},
   "outputs": [],
   "source": [
    "df = pd.read_csv('../data/dat.csv')"
   ]
  },
  {
   "cell_type": "markdown",
   "id": "6c132d5d",
   "metadata": {},
   "source": [
    "---\n",
    "## Plot basic participation stats per stratification of choice"
   ]
  },
  {
   "cell_type": "code",
   "execution_count": null,
   "id": "9970103e",
   "metadata": {},
   "outputs": [],
   "source": [
    "plt.figure()\n",
    "plt.subplot(121)\n",
    "df['institution'].value_counts().plot.bar()\n",
    "plt.grid()\n",
    "plt.subplot(122)\n",
    "df['versie'].value_counts().plot.bar();"
   ]
  },
  {
   "cell_type": "code",
   "execution_count": null,
   "id": "f7d757d4",
   "metadata": {},
   "outputs": [],
   "source": [
    "df_vals = df[['institution', 'versie']].value_counts()\n",
    "df_vals.unstack('versie').plot.bar(stacked=True);"
   ]
  },
  {
   "cell_type": "code",
   "execution_count": null,
   "id": "6d10b60a",
   "metadata": {},
   "outputs": [],
   "source": [
    "df_vals = df[['pos5', 'sex']].value_counts()\n",
    "df_vals.unstack('sex').plot.bar(stacked=True);"
   ]
  },
  {
   "cell_type": "markdown",
   "id": "4639504c",
   "metadata": {},
   "source": [
    "---\n",
    "## Postprocess the kt values to fraction of the total budget."
   ]
  },
  {
   "cell_type": "code",
   "execution_count": null,
   "id": "edcf49c1",
   "metadata": {},
   "outputs": [],
   "source": [
    "# Second, we multiply the kt values with the values above and normalize with the total\n",
    "# to make each kt a fraction of the total money spend.\n",
    "mask = df.columns.str.contains('funds_available|versie|kt_funds_*')\n",
    "df_kt = df.iloc[:, mask].copy()\n",
    "df_kt = df_kt.dropna()\n",
    "\n",
    "for col in df_kt.iloc[:, df_kt.columns.str.contains('kt_funds*')]:\n",
    "    df_kt.loc[:, col] /= df_kt.loc[:, 'funds_available']"
   ]
  },
  {
   "cell_type": "code",
   "execution_count": null,
   "id": "be73b761",
   "metadata": {},
   "outputs": [],
   "source": [
    "# Create a table with the fraction spent per kt item per group.\n",
    "kts = list( df_kt.iloc[:, df_kt.columns.str.contains('kt_funds*')] )\n",
    "df_kt_per_version = df_kt.groupby('versie')[ kts ]\n",
    "df_kt_per_version.mean()"
   ]
  },
  {
   "cell_type": "code",
   "execution_count": null,
   "id": "f4aafb09",
   "metadata": {},
   "outputs": [],
   "source": [
    "# Print the fraction of the total money spent per experiment version.\n",
    "df_kt_per_version.mean().sum(axis=1)"
   ]
  },
  {
   "cell_type": "code",
   "execution_count": null,
   "id": "c3175f42",
   "metadata": {},
   "outputs": [],
   "source": [
    "# Plot a histogram with a bar per version.\n",
    "df_kt_per_version.mean().transpose().plot.bar()\n",
    "plt.grid()"
   ]
  },
  {
   "cell_type": "code",
   "execution_count": null,
   "id": "9f3eb7e5",
   "metadata": {},
   "outputs": [],
   "source": [
    "# Plot a histogram per version.\n",
    "df_kt_per_version.mean().plot.bar()\n",
    "plt.grid()"
   ]
  },
  {
   "cell_type": "code",
   "execution_count": null,
   "id": "3bf85cf4",
   "metadata": {},
   "outputs": [],
   "source": []
  }
 ],
 "metadata": {
  "kernelspec": {
   "display_name": "Python 3 (ipykernel)",
   "language": "python",
   "name": "python3"
  },
  "language_info": {
   "codemirror_mode": {
    "name": "ipython",
    "version": 3
   },
   "file_extension": ".py",
   "mimetype": "text/x-python",
   "name": "python",
   "nbconvert_exporter": "python",
   "pygments_lexer": "ipython3",
   "version": "3.9.14"
  }
 },
 "nbformat": 4,
 "nbformat_minor": 5
}
