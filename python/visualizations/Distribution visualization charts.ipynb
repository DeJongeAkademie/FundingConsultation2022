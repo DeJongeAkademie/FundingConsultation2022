{
 "cells": [
  {
   "cell_type": "code",
   "execution_count": null,
   "id": "2f6a4c79",
   "metadata": {},
   "outputs": [],
   "source": [
    "import matplotlib.pyplot as plt\n",
    "import pandas as pd\n",
    "import os\n",
    "import yaml\n",
    "import numpy as np\n",
    "import requests"
   ]
  },
  {
   "cell_type": "code",
   "execution_count": null,
   "id": "5144043b",
   "metadata": {},
   "outputs": [],
   "source": [
    "# download a fresh copy of the dataset from the OSF\n",
    "data_url = 'https://osf.io/f76rb//?action=download'\n",
    "response = requests.get(data_url)\n",
    "\n",
    "if response.status_code == 200:\n",
    "    with open('../../data/dat.csv', 'wb') as f:\n",
    "        f.write(response.content)"
   ]
  },
  {
   "cell_type": "code",
   "execution_count": null,
   "id": "50d31689",
   "metadata": {},
   "outputs": [],
   "source": [
    "PATH_TO_DATA = '../../data/dat.csv'\n",
    "PATH_TO_INDEX_INTERPRETATIONS = '../../R/value_labels.yml'"
   ]
  },
  {
   "cell_type": "code",
   "execution_count": null,
   "id": "72ece009",
   "metadata": {},
   "outputs": [],
   "source": [
    "consultation_data = pd.read_csv(PATH_TO_DATA)"
   ]
  },
  {
   "cell_type": "code",
   "execution_count": null,
   "id": "a455bebb",
   "metadata": {},
   "outputs": [],
   "source": [
    "variable_labels = pd.read_csv('../../data/Variabelen_DJA_shortlabels.csv', encoding='ISO-8859-1')\n",
    "index_interpretations = yaml.safe_load(open(PATH_TO_INDEX_INTERPRETATIONS))"
   ]
  },
  {
   "cell_type": "code",
   "execution_count": null,
   "id": "60be939c",
   "metadata": {},
   "outputs": [],
   "source": [
    "def get_labels(data_frame, variable_labels, index_interpretations, column_name):\n",
    "    column_interpretation = variable_labels.loc[variable_labels['short']==column_name]['Label'].values[0]\n",
    "    relevant_column_counts = data_frame[column_name].value_counts()\n",
    "    relevant_column_counts_sorted = relevant_column_counts.sort_index(ascending=True)\n",
    "    \n",
    "    label_indices = relevant_column_counts_sorted.index.values\n",
    "    \n",
    "    labels = []\n",
    "    \n",
    "    for index in label_indices:\n",
    "        try:\n",
    "            current_label_interpretation = index_interpretations[column_name][str(int(index))]\n",
    "        except:\n",
    "            current_label_interpretation = 'unknown'\n",
    "        \n",
    "        labels.append(current_label_interpretation)\n",
    "    \n",
    "    return labels, column_interpretation"
   ]
  },
  {
   "cell_type": "code",
   "execution_count": null,
   "id": "1ef9cdbd",
   "metadata": {},
   "outputs": [],
   "source": [
    "def get_plotting_data(data_frame, variable_labels, index_interpretations, column_name):\n",
    "    \n",
    "    (labels, column_interpretation) = get_labels(data_frame, variable_labels, index_interpretations, column_name)\n",
    "    \n",
    "    values = relevant_column_counts_sorted.values\n",
    "    \n",
    "    return labels, values, column_interpretation"
   ]
  },
  {
   "cell_type": "code",
   "execution_count": null,
   "id": "b7273c4d",
   "metadata": {},
   "outputs": [],
   "source": [
    "def finalize_figure(column_interpretation, save_folder, prefix, column_name):\n",
    "    if len(prefix) > 0:\n",
    "        title = '%s\\n%s' % (prefix, column_interpretation)\n",
    "    else:\n",
    "        title = column_interpretation\n",
    "        \n",
    "    plt.title(title)\n",
    "    \n",
    "    if len(save_folder) > 0:\n",
    "        plt.savefig('%s/%s.png' % (save_folder, column_name), bbox_inches='tight')"
   ]
  },
  {
   "cell_type": "code",
   "execution_count": null,
   "id": "16d31894",
   "metadata": {},
   "outputs": [],
   "source": [
    "def create_pie_chart(data_frame, variable_labels, index_interpretations, column_name, save_folder = '', prefix = ''):\n",
    "    (labels, values, column_interpretation) = \\\n",
    "      get_plotting_data(data_frame, variable_labels, index_interpretations, column_name)\n",
    "    \n",
    "    plt.figure(figsize=(6,6))\n",
    "    plt.pie(values, labels=labels, autopct=format_autopct(values), counterclock=False, startangle=90)\n",
    "    plt.ylabel('')\n",
    "    \n",
    "    finalize_figure(column_interpretation, save_folder, prefix, column_name)"
   ]
  },
  {
   "cell_type": "code",
   "execution_count": null,
   "id": "ade7c1d0",
   "metadata": {},
   "outputs": [],
   "source": [
    "def format_autopct(values):\n",
    "    def autopct_formatted(pct):\n",
    "        total = sum(values)\n",
    "        val = int(round(pct*total/100.0))\n",
    "        return '{p:.2f}%\\n({v:d})'.format(p=pct,v=val)\n",
    "    return autopct_formatted"
   ]
  },
  {
   "cell_type": "code",
   "execution_count": null,
   "id": "271bf188",
   "metadata": {},
   "outputs": [],
   "source": [
    "def create_bar_chart(data_frame, variable_labels, index_interpretations, column_name, save_folder = '', prefix = ''):\n",
    "    (labels, values, column_interpretation) = \\\n",
    "      get_plotting_data(data_frame, variable_labels, index_interpretations, column_name)\n",
    "    \n",
    "    plt.figure(figsize=(6,6))\n",
    "    plt.bar(x = labels, height = values)\n",
    "    plt.ylabel('')\n",
    "    plt.xticks(rotation = 90)\n",
    "    \n",
    "    finalize_figure(column_interpretation, save_folder, prefix, column_name)"
   ]
  },
  {
   "cell_type": "code",
   "execution_count": null,
   "id": "4f26b4de",
   "metadata": {},
   "outputs": [],
   "source": [
    "def create_stacked_bar_chart(data_frame, variable_labels, index_interpretations, column_name_x, column_name_to_stack, save_folder = '', prefix = ''):\n",
    "    (labels, column_interpretation) = get_labels(data_frame, variable_labels, index_interpretations, column_name_x)\n",
    "    \n",
    "    regrouped_data = data_frame.groupby([column_name_x, column_name_to_stack])[column_name_x].count().unstack(column_name_to_stack)\n",
    "    \n",
    "    plt.figure()\n",
    "    regrouped_data.plot(kind='bar', stacked=True)\n",
    "    \n",
    "    plt.xlabel('')\n",
    "    plt.xticks(np.arange(0, len(labels)), labels=labels, rotation = 90)\n",
    "    plt.legend(bbox_to_anchor=(1, 0.5) , loc='center left')\n",
    "    \n",
    "    finalize_figure(column_interpretation, save_folder, prefix, column_name_x)\n",
    "    \n",
    "    return labels"
   ]
  },
  {
   "cell_type": "code",
   "execution_count": null,
   "id": "a2812530",
   "metadata": {
    "scrolled": true
   },
   "outputs": [],
   "source": [
    "single_column_answers = ['quit', 'major_changes', 'carreer_success',\\\n",
    "                         'award_fair', 'award_lottery', 'award_time',\\\n",
    "                         'award_bandwagon', 'co_private', 'co_connections',\\\n",
    "                         'co_irrelevant', 'review_info',\\\n",
    "                         'review_confidence', 'review_informative',\\\n",
    "                         'review_more', 'review_government']"
   ]
  },
  {
   "cell_type": "code",
   "execution_count": null,
   "id": "c8cd95fb",
   "metadata": {},
   "outputs": [],
   "source": [
    "PLOTTING_FOLDER = 'plots_pie'\n",
    "if not os.path.exists(PLOTTING_FOLDER):\n",
    "    os.mkdir(PLOTTING_FOLDER)\n",
    "\n",
    "for category in single_column_answers:\n",
    "    create_pie_chart(consultation_data, variable_labels, index_interpretations, category, PLOTTING_FOLDER)"
   ]
  },
  {
   "cell_type": "code",
   "execution_count": null,
   "id": "bb951567",
   "metadata": {
    "scrolled": true
   },
   "outputs": [],
   "source": [
    "PLOTTING_FOLDER = 'plots_bar'\n",
    "if not os.path.exists(PLOTTING_FOLDER):\n",
    "    os.mkdir(PLOTTING_FOLDER)\n",
    "\n",
    "for category in single_column_answers:\n",
    "    create_bar_chart(consultation_data, variable_labels, index_interpretations, category)"
   ]
  },
  {
   "cell_type": "code",
   "execution_count": null,
   "id": "e3d18bb8",
   "metadata": {
    "scrolled": true
   },
   "outputs": [],
   "source": [
    "PLOTTING_FOLDER = 'plots_bar_stacked'\n",
    "if not os.path.exists(PLOTTING_FOLDER):\n",
    "    os.mkdir(PLOTTING_FOLDER)\n",
    "\n",
    "for category in single_column_answers:\n",
    "    create_stacked_bar_chart(consultation_data, variable_labels, index_interpretations, category, 'pos9', PLOTTING_FOLDER)"
   ]
  },
  {
   "cell_type": "code",
   "execution_count": null,
   "id": "7a5065a8",
   "metadata": {},
   "outputs": [],
   "source": [
    "nested_questions = {'In hoeverre speelt onderstaande partij een rol bij het realiseren van je wetenschappelijke potentie?' :\\\n",
    "                    ['rol_supervisor', 'rol_head', 'rol_dean', 'rol_colleagues', 'rol_nwo', 'rol_ocw', 'rol_mentor'],\\\n",
    "                    'Wie zou het voor het zeggen moeten hebben mbt welk onderzoek gefinancierd wordt?' : \\\n",
    "                    ['who_researcher', 'who_manager', 'who_university', 'who_committee', 'who_government', 'who_society'],\\\n",
    "                    'Hoeveel tijd besteed je aan onderstaande activiteit?' :\\\n",
    "                    ['time_research', 'time_education', 'time_phds', 'time_management_low', 'time_management_hi',\\\n",
    "                     'time_service', 'time_admin', 'time_involvement', 'time_patients']\n",
    "                   }"
   ]
  },
  {
   "cell_type": "code",
   "execution_count": null,
   "id": "24904719",
   "metadata": {},
   "outputs": [],
   "source": [
    "PLOTTING_FOLDER = 'plots_bar_stacked'\n",
    "if not os.path.exists(PLOTTING_FOLDER):\n",
    "    os.mkdir(PLOTTING_FOLDER)\n",
    "\n",
    "for question_category in nested_questions:\n",
    "    for category in nested_questions[question_category]:\n",
    "        create_stacked_bar_chart(consultation_data, variable_labels, index_interpretations,\\\n",
    "                                 category, 'pos9', PLOTTING_FOLDER, question_category)"
   ]
  },
  {
   "cell_type": "code",
   "execution_count": null,
   "id": "12108cbc",
   "metadata": {},
   "outputs": [],
   "source": [
    "plt.close(\"all\")"
   ]
  }
 ],
 "metadata": {
  "kernelspec": {
   "display_name": "Python 3 (ipykernel)",
   "language": "python",
   "name": "python3"
  },
  "language_info": {
   "codemirror_mode": {
    "name": "ipython",
    "version": 3
   },
   "file_extension": ".py",
   "mimetype": "text/x-python",
   "name": "python",
   "nbconvert_exporter": "python",
   "pygments_lexer": "ipython3",
   "version": "3.10.5"
  }
 },
 "nbformat": 4,
 "nbformat_minor": 5
}
