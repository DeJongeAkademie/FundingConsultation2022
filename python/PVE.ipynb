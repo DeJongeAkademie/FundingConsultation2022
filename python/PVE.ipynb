{
 "cells": [
  {
   "cell_type": "markdown",
   "id": "d6d01fcc",
   "metadata": {},
   "source": [
    "# PVE-analysis on research funding\n",
    "*Collective Compass Project, DJA, July 2022*"
   ]
  },
  {
   "cell_type": "markdown",
   "id": "baed8bec",
   "metadata": {},
   "source": [
    "## Loading the necessary Python modules."
   ]
  },
  {
   "cell_type": "code",
   "execution_count": null,
   "id": "9db1dc3a",
   "metadata": {},
   "outputs": [],
   "source": [
    "import matplotlib.pyplot as plt\n",
    "import pandas as pd\n",
    "import itertools\n",
    "plt.rcParams.update({'font.size': 14}) # must set in top\n",
    "plt.rcParams.update({'figure.figsize': (14, 4)}) # must set in top"
   ]
  },
  {
   "cell_type": "markdown",
   "id": "fd39249e",
   "metadata": {},
   "source": [
    "---\n",
    "## Reading the data from disk"
   ]
  },
  {
   "cell_type": "code",
   "execution_count": null,
   "id": "bce77d61",
   "metadata": {},
   "outputs": [],
   "source": [
    "# 550 M is the total budget\n",
    "df1 = pd.read_csv('Property values 1.csv', sep=';')"
   ]
  },
  {
   "cell_type": "code",
   "execution_count": null,
   "id": "7ca1eeb7",
   "metadata": {},
   "outputs": [],
   "source": [
    "# 400 M is the total budget\n",
    "df2 = pd.read_csv('Property values 2.csv', sep=';')"
   ]
  },
  {
   "cell_type": "code",
   "execution_count": null,
   "id": "d56888a2",
   "metadata": {},
   "outputs": [],
   "source": [
    "# 900 M is the total budget\n",
    "df3 = pd.read_csv('Property values 3.csv', sep=';')"
   ]
  },
  {
   "cell_type": "code",
   "execution_count": null,
   "id": "f4a4c9df",
   "metadata": {},
   "outputs": [],
   "source": [
    "df = pd.read_stata('DJA_forDJA.dta')"
   ]
  },
  {
   "cell_type": "markdown",
   "id": "b1682789",
   "metadata": {},
   "source": [
    "---\n",
    "## Correct the data where needed"
   ]
  },
  {
   "cell_type": "code",
   "execution_count": null,
   "id": "4cbf9a33",
   "metadata": {},
   "outputs": [],
   "source": [
    "df['inst'] = df['inst'].replace('Delft University of Technology', 'Technische Universiteit Delft')"
   ]
  },
  {
   "cell_type": "markdown",
   "id": "6c132d5d",
   "metadata": {},
   "source": [
    "---\n",
    "# Plot basic participation stats per stratification of choice"
   ]
  },
  {
   "cell_type": "code",
   "execution_count": null,
   "id": "9970103e",
   "metadata": {},
   "outputs": [],
   "source": [
    "plt.figure()\n",
    "plt.subplot(121)\n",
    "df['inst'].value_counts().plot.bar()\n",
    "plt.grid()\n",
    "plt.subplot(122)\n",
    "df['versie'].value_counts().plot.bar();"
   ]
  },
  {
   "cell_type": "code",
   "execution_count": null,
   "id": "f7d757d4",
   "metadata": {},
   "outputs": [],
   "source": [
    "df_vals = df[['inst', 'versie']].value_counts()\n",
    "df_vals.unstack('versie').plot.bar(stacked=True);"
   ]
  },
  {
   "cell_type": "code",
   "execution_count": null,
   "id": "6d10b60a",
   "metadata": {},
   "outputs": [],
   "source": [
    "df_vals = df[['pos5', 'gender']].value_counts()\n",
    "df_vals.unstack('gender').plot.bar(stacked=True);"
   ]
  },
  {
   "cell_type": "markdown",
   "id": "4639504c",
   "metadata": {},
   "source": [
    "---\n",
    "## Postprocess the kt values to fraction of the total budget."
   ]
  },
  {
   "cell_type": "code",
   "execution_count": null,
   "id": "93997c0a",
   "metadata": {},
   "outputs": [],
   "source": [
    "# First, we read the actual maximum budget values of which the kt values are a fraction from the table.\n",
    "df1_abs_vals = df1.iloc[0:11, 2].values\n",
    "df2_abs_vals = df2.iloc[0:11, 2].values\n",
    "df3_abs_vals = df3.iloc[0:11, 2].values"
   ]
  },
  {
   "cell_type": "code",
   "execution_count": null,
   "id": "edcf49c1",
   "metadata": {},
   "outputs": [],
   "source": [
    "# Second, we multiply the kt values with the values above and normalize with the total\n",
    "# to make each kt a fraction of the total money spend.\n",
    "df_kt = df[['versie', 'ktversie', 'kt1', 'kt2', 'kt3', 'kt4', 'kt5', 'kt6', 'kt7', 'kt8', 'kt9', 'kt10', 'kt11']].copy()\n",
    "df_kt['success_chance'] = 'zero'\n",
    "df_kt['invested_time'] = 'lots'\n",
    "\n",
    "print(df_kt['invested_time'])\n",
    "\n",
    "for ikt in range(11):\n",
    "    key = 'kt{}'.format(ikt+1)\n",
    "    mask = df_kt['versie'] == '1'\n",
    "    df_kt.loc[mask, key] = df_kt.loc[mask, key] * df1_abs_vals[ikt] / 550.\n",
    "       \n",
    "for ikt in range(11):\n",
    "    key = 'kt{}'.format(ikt+1)\n",
    "    mask = df_kt['versie'] == '2'\n",
    "    df_kt.loc[mask, key] = df_kt.loc[mask, key] * df2_abs_vals[ikt] / 400.\n",
    "    \n",
    "for ikt in range(11):\n",
    "    key = 'kt{}'.format(ikt+1)\n",
    "    mask = df_kt['versie'] == '3'\n",
    "    df_kt.loc[mask, key] = df_kt.loc[mask, key] * df3_abs_vals[ikt] / 900."
   ]
  },
  {
   "cell_type": "code",
   "execution_count": null,
   "id": "be73b761",
   "metadata": {},
   "outputs": [],
   "source": [
    "# Create a table with the fraction spent per kt item per group.\n",
    "df_kt_per_version = df_kt.groupby('versie')[['kt1', 'kt2', 'kt3', 'kt4', 'kt5', 'kt6', 'kt7', 'kt8', 'kt9', 'kt10', 'kt11', 'success_chance', 'invested_time']]\n",
    "df_kt_per_version.mean()"
   ]
  },
  {
   "cell_type": "code",
   "execution_count": null,
   "id": "f4aafb09",
   "metadata": {},
   "outputs": [],
   "source": [
    "# Print the fraction of the total money spent per experiment version.\n",
    "df_kt_per_version.mean().sum(axis=1)"
   ]
  },
  {
   "cell_type": "code",
   "execution_count": null,
   "id": "c3175f42",
   "metadata": {},
   "outputs": [],
   "source": [
    "# Plot a histogram with a bar per version.\n",
    "df_kt_per_version.mean().transpose().plot.bar()\n",
    "plt.grid()"
   ]
  },
  {
   "cell_type": "code",
   "execution_count": null,
   "id": "9f3eb7e5",
   "metadata": {},
   "outputs": [],
   "source": [
    "# Plot a histogram per version.\n",
    "df_kt_per_version.mean().plot.bar()\n",
    "plt.grid()"
   ]
  },
  {
   "cell_type": "code",
   "execution_count": null,
   "id": "efacc6ed",
   "metadata": {},
   "outputs": [],
   "source": []
  }
 ],
 "metadata": {
  "kernelspec": {
   "display_name": "Python 3 (ipykernel)",
   "language": "python",
   "name": "python3"
  },
  "language_info": {
   "codemirror_mode": {
    "name": "ipython",
    "version": 3
   },
   "file_extension": ".py",
   "mimetype": "text/x-python",
   "name": "python",
   "nbconvert_exporter": "python",
   "pygments_lexer": "ipython3",
   "version": "3.9.13"
  }
 },
 "nbformat": 4,
 "nbformat_minor": 5
}
