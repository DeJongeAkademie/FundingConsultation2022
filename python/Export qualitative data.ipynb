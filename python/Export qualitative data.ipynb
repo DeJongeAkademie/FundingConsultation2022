{
 "cells": [
  {
   "cell_type": "code",
   "execution_count": 21,
   "id": "2f6a4c79",
   "metadata": {},
   "outputs": [],
   "source": [
    "import pandas as pd\n",
    "import os\n",
    "import yaml"
   ]
  },
  {
   "cell_type": "code",
   "execution_count": 2,
   "id": "5144043b",
   "metadata": {},
   "outputs": [],
   "source": [
    "# because of potential identifiability, the textual data is not public.\n",
    "# Please contact the DJA Consultation team if you would wish to obtain access to the file referenced here.\n",
    "PATH_TO_DATA = '../data/data_character_clean.csv'"
   ]
  },
  {
   "cell_type": "code",
   "execution_count": 3,
   "id": "72ece009",
   "metadata": {},
   "outputs": [],
   "source": [
    "consultation_qualitative = pd.read_csv(PATH_TO_DATA, encoding='ISO-8859-1')"
   ]
  },
  {
   "cell_type": "code",
   "execution_count": 4,
   "id": "a455bebb",
   "metadata": {},
   "outputs": [],
   "source": [
    "variable_labels = pd.read_csv('../data/Variabelen_DJA_shortlabels.csv', encoding='ISO-8859-1')"
   ]
  },
  {
   "cell_type": "code",
   "execution_count": 5,
   "id": "e89b1e48",
   "metadata": {},
   "outputs": [],
   "source": [
    "TEXT_FOLDER = 'text'\n",
    "if not os.path.exists(TEXT_FOLDER):\n",
    "    os.mkdir(TEXT_FOLDER)"
   ]
  },
  {
   "cell_type": "code",
   "execution_count": 39,
   "id": "3c7468c5",
   "metadata": {},
   "outputs": [],
   "source": [
    "def look_up_interpretation(column_name, variable_labels):\n",
    "    return variable_labels.loc[variable_labels['short']==column_name]['Variabele.naam'].values[0]"
   ]
  },
  {
   "cell_type": "code",
   "execution_count": null,
   "id": "a3cb3426",
   "metadata": {},
   "outputs": [],
   "source": [
    "for row_index, entry in consultation_qualitative.iterrows():\n",
    "    entry_id = entry['id']\n",
    "    \n",
    "    for column_name in entry.index:\n",
    "        \n",
    "        if not column_name == 'id':\n",
    "            if not pd.isna(entry[column_name]):\n",
    "                TARGET_FILE_PATH = os.path.join(TEXT_FOLDER, '%s.txt'% look_up_interpretation(column_name, variable_labels))\n",
    "                f = open(TARGET_FILE_PATH, 'a')\n",
    "                f.write('%s\\n%s\\n\\n' % (entry_id, entry[column_name]))\n",
    "                f.close()"
   ]
  }
 ],
 "metadata": {
  "kernelspec": {
   "display_name": "Python 3 (ipykernel)",
   "language": "python",
   "name": "python3"
  },
  "language_info": {
   "codemirror_mode": {
    "name": "ipython",
    "version": 3
   },
   "file_extension": ".py",
   "mimetype": "text/x-python",
   "name": "python",
   "nbconvert_exporter": "python",
   "pygments_lexer": "ipython3",
   "version": "3.10.5"
  }
 },
 "nbformat": 4,
 "nbformat_minor": 5
}
