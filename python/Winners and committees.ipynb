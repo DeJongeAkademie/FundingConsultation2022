{
 "cells": [
  {
   "cell_type": "code",
   "execution_count": null,
   "id": "3bcc53ce",
   "metadata": {},
   "outputs": [],
   "source": [
    "import FundingConsultation"
   ]
  },
  {
   "cell_type": "code",
   "execution_count": null,
   "id": "4dfba9f6",
   "metadata": {},
   "outputs": [],
   "source": [
    "quantitative_data = FundingConsultation.get_quantitative_data()\n",
    "qualitative_data = FundingConsultation.get_qualitative_data()"
   ]
  },
  {
   "cell_type": "code",
   "execution_count": null,
   "id": "83e205a1",
   "metadata": {},
   "outputs": [],
   "source": [
    "# loading the mappings of index numbers to answers for programmatic access\n",
    "query_indexes = FundingConsultation.get_query_indexes()\n",
    "# loading the mappings of textual answer fields for programmatic access\n",
    "textual_indexes = FundingConsultation.get_textual_indexes()"
   ]
  },
  {
   "cell_type": "code",
   "execution_count": null,
   "id": "c9da2b0d",
   "metadata": {},
   "outputs": [],
   "source": [
    "# display the query indexes. These can be queried based on index number\n",
    "# (e.g., people under 30 would be queried by the number 1 under class 'age')\n",
    "query_indexes"
   ]
  },
  {
   "cell_type": "code",
   "execution_count": null,
   "id": "363f6448",
   "metadata": {},
   "outputs": [],
   "source": [
    "# display the textual indexes. These should be queried based on the textual answer number\n",
    "# (e.g., humanities scholars would be queried by the text 'Humanities and social sciences' under class 'displine')\n",
    "textual_indexes"
   ]
  },
  {
   "cell_type": "markdown",
   "id": "b5255605",
   "metadata": {},
   "source": [
    "## Which changes proposed, based on grant successes"
   ]
  },
  {
   "cell_type": "code",
   "execution_count": null,
   "id": "c6a89f0a",
   "metadata": {},
   "outputs": [],
   "source": [
    "FundingConsultation.export_qualitative_answers_for_conditions_and_column( \\\n",
    "    quantitative_data, qualitative_data, {'successful_applications': ['Nee']}, 'which_changes', 'major_changes')\n",
    "FundingConsultation.export_qualitative_answers_for_conditions_and_column( \\\n",
    "    quantitative_data, qualitative_data, {'successful_applications': ['Ja, minder dan 10% van mijn aanvragen']}, 'which_changes', 'major_changes')\n",
    "FundingConsultation.export_qualitative_answers_for_conditions_and_column( \\\n",
    "    quantitative_data, qualitative_data, {'successful_applications': ['Ja, 10-20% van mijn aanvragen']}, 'which_changes', 'major_changes')\n",
    "FundingConsultation.export_qualitative_answers_for_conditions_and_column( \\\n",
    "    quantitative_data, qualitative_data, {'successful_applications': ['Ja, meer dan 30% van mijn aanvragen']}, 'which_changes', 'major_changes')"
   ]
  },
  {
   "cell_type": "markdown",
   "id": "bc1e79b8",
   "metadata": {},
   "source": [
    "## Panelists"
   ]
  },
  {
   "cell_type": "code",
   "execution_count": null,
   "id": "c5805342",
   "metadata": {},
   "outputs": [],
   "source": [
    "# export responses from participants who have been on no committee, and on every committee\n",
    "FundingConsultation.export_qualitative_answers_for_conditions_and_column( \\\n",
    "    quantitative_data, qualitative_data, {'body_nwo':[0],'body_university':[0],'body_foreign':[0],'body_award':[0],'body_none':[1]}, 'which_changes', 'major_changes')\n",
    "FundingConsultation.export_qualitative_answers_for_conditions_and_column( \\\n",
    "    quantitative_data, qualitative_data, {'body_nwo':[1],'body_university':[1],'body_foreign':[1],'body_award':[1],'body_none':[0]}, 'which_changes', 'major_changes')"
   ]
  },
  {
   "cell_type": "code",
   "execution_count": null,
   "id": "27ba256a",
   "metadata": {},
   "outputs": [],
   "source": [
    "# Also export the responses of the ones who have been on a committee but not on all of them.\n",
    "# For this, make a new column counting the types of panels people were on\n",
    "quantitative_data['combined_panels'] = quantitative_data['body_nwo'] + quantitative_data['body_university'] + quantitative_data['body_foreign'] + quantitative_data['body_award'] "
   ]
  },
  {
   "cell_type": "code",
   "execution_count": null,
   "id": "6c8eff1d",
   "metadata": {},
   "outputs": [],
   "source": [
    "# And export for people who have been on 1, 2 or 3 types of panels\n",
    "FundingConsultation.export_qualitative_answers_for_conditions_and_column( \\\n",
    "    quantitative_data, qualitative_data, {'combined_panels':[1, 2, 3]}, 'which_changes', 'major_changes')"
   ]
  }
 ],
 "metadata": {
  "kernelspec": {
   "display_name": "Python 3 (ipykernel)",
   "language": "python",
   "name": "python3"
  },
  "language_info": {
   "codemirror_mode": {
    "name": "ipython",
    "version": 3
   },
   "file_extension": ".py",
   "mimetype": "text/x-python",
   "name": "python",
   "nbconvert_exporter": "python",
   "pygments_lexer": "ipython3",
   "version": "3.10.5"
  }
 },
 "nbformat": 4,
 "nbformat_minor": 5
}
