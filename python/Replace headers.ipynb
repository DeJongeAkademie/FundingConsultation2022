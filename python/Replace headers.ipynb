{
 "cells": [
  {
   "cell_type": "code",
   "execution_count": null,
   "id": "b84b22ef",
   "metadata": {},
   "outputs": [],
   "source": [
    "import pandas as pd"
   ]
  },
  {
   "cell_type": "code",
   "execution_count": null,
   "id": "7f788eae",
   "metadata": {},
   "outputs": [],
   "source": [
    "DJA_data = pd.read_excel('../data/dja.xlsx')"
   ]
  },
  {
   "cell_type": "code",
   "execution_count": null,
   "id": "b5176dc2",
   "metadata": {},
   "outputs": [],
   "source": [
    "DJA_data"
   ]
  },
  {
   "cell_type": "code",
   "execution_count": null,
   "id": "f22259e3",
   "metadata": {},
   "outputs": [],
   "source": [
    "DJA_headers = pd.read_csv('../data/Variabelen_DJA_shortlabels.csv')"
   ]
  },
  {
   "cell_type": "code",
   "execution_count": null,
   "id": "1b304cab",
   "metadata": {},
   "outputs": [],
   "source": [
    "DJA_headers"
   ]
  },
  {
   "cell_type": "code",
   "execution_count": null,
   "id": "3a891155",
   "metadata": {},
   "outputs": [],
   "source": [
    "header_renaming_dict = {}\n",
    "for i in DJA_headers.index:\n",
    "    header_renaming_dict[DJA_headers['Variabele.naam'][i]] = DJA_headers['short'][i]"
   ]
  },
  {
   "cell_type": "code",
   "execution_count": null,
   "id": "05a95d32",
   "metadata": {},
   "outputs": [],
   "source": [
    "DJA_data_renamed_headers = DJA_data.rename(columns=header_renaming_dict)"
   ]
  },
  {
   "cell_type": "code",
   "execution_count": null,
   "id": "8f8e790d",
   "metadata": {},
   "outputs": [],
   "source": [
    "DJA_data_renamed_headers.to_excel('../data/dja_shortvars.xlsx')"
   ]
  }
 ],
 "metadata": {
  "kernelspec": {
   "display_name": "Python 3",
   "language": "python",
   "name": "python3"
  },
  "language_info": {
   "codemirror_mode": {
    "name": "ipython",
    "version": 3
   },
   "file_extension": ".py",
   "mimetype": "text/x-python",
   "name": "python",
   "nbconvert_exporter": "python",
   "pygments_lexer": "ipython3",
   "version": "3.8.8"
  }
 },
 "nbformat": 4,
 "nbformat_minor": 5
}
