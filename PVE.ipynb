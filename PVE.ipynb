{
 "cells": [
  {
   "cell_type": "markdown",
   "id": "d6d01fcc",
   "metadata": {},
   "source": [
    "# PVE-analysis on research funding\n",
    "*Collective Compass Project, DJA, July 2022*"
   ]
  },
  {
   "cell_type": "code",
   "execution_count": null,
   "id": "9db1dc3a",
   "metadata": {},
   "outputs": [],
   "source": [
    "import matplotlib.pyplot as plt\n",
    "import pandas as pd\n",
    "import itertools\n",
    "plt.rcParams.update({'font.size': 14}) # must set in top\n",
    "plt.rcParams.update({'figure.figsize': (14, 4)}) # must set in top"
   ]
  },
  {
   "cell_type": "code",
   "execution_count": null,
   "id": "bce77d61",
   "metadata": {},
   "outputs": [],
   "source": [
    "df1 = pd.read_csv('Property values 1.csv', sep=';')\n",
    "df1"
   ]
  },
  {
   "cell_type": "code",
   "execution_count": null,
   "id": "7ca1eeb7",
   "metadata": {},
   "outputs": [],
   "source": [
    "df2 = pd.read_csv('Property values 2.csv', sep=';')"
   ]
  },
  {
   "cell_type": "code",
   "execution_count": null,
   "id": "d56888a2",
   "metadata": {},
   "outputs": [],
   "source": [
    "df3 = pd.read_csv('Property values 3.csv', sep=';')"
   ]
  },
  {
   "cell_type": "code",
   "execution_count": null,
   "id": "f4a4c9df",
   "metadata": {},
   "outputs": [],
   "source": [
    "df = pd.read_stata('DJA_forDJA.dta')"
   ]
  },
  {
   "cell_type": "code",
   "execution_count": null,
   "id": "9970103e",
   "metadata": {},
   "outputs": [],
   "source": [
    "plt.figure()\n",
    "plt.subplot(121)\n",
    "df['inst'].hist(xrot=90);\n",
    "plt.subplot(122)\n",
    "df['versie'].hist(xrot=90);"
   ]
  },
  {
   "cell_type": "code",
   "execution_count": null,
   "id": "0c7ab611",
   "metadata": {},
   "outputs": [],
   "source": [
    "df_kt_per_version = df.groupby('versie')[['kt1', 'kt2', 'kt3', 'kt4', 'kt5', 'kt6', 'kt7', 'kt8', 'kt9', 'kt10', 'kt11']]\n",
    "\n",
    "df_kt_median_per_version = df_kt_per_version.median()\n",
    "df_kt_median_per_version.plot.bar();\n",
    "df_kt_median_per_version.transpose().plot.bar();"
   ]
  },
  {
   "cell_type": "code",
   "execution_count": null,
   "id": "1422107f",
   "metadata": {},
   "outputs": [],
   "source": [
    "df_kt_per_version.mean().sum(axis=1)"
   ]
  },
  {
   "cell_type": "code",
   "execution_count": null,
   "id": "e7ce8c45",
   "metadata": {},
   "outputs": [],
   "source": [
    "df1_abs_vals = df1.iloc[0:11, 2].values\n",
    "df2_abs_vals = df2.iloc[0:11, 2].values\n",
    "df3_abs_vals = df3.iloc[0:11, 2].values\n",
    "df1_abs_vals"
   ]
  },
  {
   "cell_type": "code",
   "execution_count": null,
   "id": "50234704",
   "metadata": {},
   "outputs": [],
   "source": [
    "df_kt = df[['versie', 'ktversie', 'kt1', 'kt2', 'kt3', 'kt4', 'kt5', 'kt6', 'kt7', 'kt8', 'kt9', 'kt10', 'kt11']]\n",
    "\n",
    "for ikt in range(11):\n",
    "    key = 'kt{}'.format(ikt+1)\n",
    "    mask = df_kt['versie'] == '1'\n",
    "    df_kt.loc[mask, key] = df_kt.loc[mask, key] * df1_abs_vals[ikt]\n",
    "       \n",
    "for ikt in range(11):\n",
    "    key = 'kt{}'.format(ikt+1)\n",
    "    mask = df_kt['versie'] == '2'\n",
    "    df_kt.loc[mask, key] = df_kt.loc[mask, key] * df2_abs_vals[ikt]\n",
    "    \n",
    "for ikt in range(11):\n",
    "    key = 'kt{}'.format(ikt+1)\n",
    "    mask = df_kt['versie'] == '3'\n",
    "    df_kt.loc[mask, key] = df_kt.loc[mask, key] * df3_abs_vals[ikt]"
   ]
  },
  {
   "cell_type": "code",
   "execution_count": null,
   "id": "64f4398b",
   "metadata": {},
   "outputs": [],
   "source": [
    "df_kt_per_version = df_kt.groupby('versie')[['kt1', 'kt2', 'kt3', 'kt4', 'kt5', 'kt6', 'kt7', 'kt8', 'kt9', 'kt10', 'kt11']]\n",
    "df_kt_per_version.mean()"
   ]
  },
  {
   "cell_type": "code",
   "execution_count": null,
   "id": "601d0adc",
   "metadata": {},
   "outputs": [],
   "source": []
  },
  {
   "cell_type": "code",
   "execution_count": null,
   "id": "59489dca",
   "metadata": {},
   "outputs": [],
   "source": [
    "df1_abs_vals"
   ]
  },
  {
   "cell_type": "code",
   "execution_count": null,
   "id": "a01f1c4c",
   "metadata": {},
   "outputs": [],
   "source": []
  }
 ],
 "metadata": {
  "kernelspec": {
   "display_name": "Python 3 (ipykernel)",
   "language": "python",
   "name": "python3"
  },
  "language_info": {
   "codemirror_mode": {
    "name": "ipython",
    "version": 3
   },
   "file_extension": ".py",
   "mimetype": "text/x-python",
   "name": "python",
   "nbconvert_exporter": "python",
   "pygments_lexer": "ipython3",
   "version": "3.9.13"
  }
 },
 "nbformat": 4,
 "nbformat_minor": 5
}
