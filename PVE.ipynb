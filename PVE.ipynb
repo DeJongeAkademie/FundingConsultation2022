{
 "cells": [
  {
   "cell_type": "markdown",
   "id": "d6d01fcc",
   "metadata": {},
   "source": [
    "# PVE-analysis on research funding\n",
    "*Collective Compass Project, DJA, July 2022*"
   ]
  },
  {
   "cell_type": "code",
   "execution_count": null,
   "id": "9db1dc3a",
   "metadata": {},
   "outputs": [],
   "source": [
    "import matplotlib.pyplot as plt\n",
    "import pandas as pd\n",
    "plt.rcParams.update({'font.size': 14}) # must set in top\n",
    "plt.rcParams.update({'figure.figsize': (14, 4)}) # must set in top"
   ]
  },
  {
   "cell_type": "code",
   "execution_count": null,
   "id": "bce77d61",
   "metadata": {},
   "outputs": [],
   "source": [
    "df1 = pd.read_csv('Property values 1.csv', sep=';')"
   ]
  },
  {
   "cell_type": "code",
   "execution_count": null,
   "id": "7ca1eeb7",
   "metadata": {},
   "outputs": [],
   "source": [
    "df2 = pd.read_csv('Property values 2.csv', sep=';')"
   ]
  },
  {
   "cell_type": "code",
   "execution_count": null,
   "id": "d56888a2",
   "metadata": {},
   "outputs": [],
   "source": [
    "df3 = pd.read_csv('Property values 2.csv', sep=';')"
   ]
  },
  {
   "cell_type": "code",
   "execution_count": null,
   "id": "f4a4c9df",
   "metadata": {},
   "outputs": [],
   "source": [
    "df = pd.read_stata('DJA_forDJA.dta')"
   ]
  },
  {
   "cell_type": "code",
   "execution_count": null,
   "id": "9970103e",
   "metadata": {},
   "outputs": [],
   "source": [
    "df['inst'].hist(xrot=90);"
   ]
  },
  {
   "cell_type": "code",
   "execution_count": null,
   "id": "1422107f",
   "metadata": {},
   "outputs": [],
   "source": [
    "df.boxplot(column=['kt1'], by=['inst', 'gender'], rot=90)\n",
    "plt.xlabel('Institute')"
   ]
  },
  {
   "cell_type": "code",
   "execution_count": null,
   "id": "0f2bee28",
   "metadata": {},
   "outputs": [],
   "source": []
  }
 ],
 "metadata": {
  "kernelspec": {
   "display_name": "Python 3 (ipykernel)",
   "language": "python",
   "name": "python3"
  },
  "language_info": {
   "codemirror_mode": {
    "name": "ipython",
    "version": 3
   },
   "file_extension": ".py",
   "mimetype": "text/x-python",
   "name": "python",
   "nbconvert_exporter": "python",
   "pygments_lexer": "ipython3",
   "version": "3.9.13"
  }
 },
 "nbformat": 4,
 "nbformat_minor": 5
}
